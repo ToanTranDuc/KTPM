{
  "nbformat": 4,
  "nbformat_minor": 0,
  "metadata": {
    "colab": {
      "provenance": [],
      "collapsed_sections": [
        "R7lErBnh1env"
      ]
    },
    "kernelspec": {
      "name": "python3",
      "display_name": "Python 3"
    },
    "language_info": {
      "name": "python"
    }
  },
  "cells": [
    {
      "cell_type": "markdown",
      "source": [
        "\n",
        "\n",
        "#Câu a\n",
        "\n"
      ],
      "metadata": {
        "id": "R7lErBnh1env"
      }
    },
    {
      "cell_type": "code",
      "metadata": {
        "colab": {
          "base_uri": "https://localhost:8080/"
        },
        "id": "860b5fa9",
        "outputId": "d136f97b-4182-4573-a630-ab78320ead58"
      },
      "source": [
        "%%writefile main.cpp\n",
        "#include <iostream>\n",
        "\n",
        "int f1(int x) {\n",
        "    if (x > 10)\n",
        "        return 2 * x;\n",
        "    else\n",
        "        return -x;\n",
        "}\n",
        "\n",
        "int main() {\n",
        "    int testCases[][2] = {\n",
        "        {11, 22}, // x > 10\n",
        "        {10, -10}, // x <= 10 (biên)\n",
        "        {5, -5}    // x <= 10\n",
        "    };\n",
        "\n",
        "    std::cout << \"Kết quả kiểm tra hàm f1:\\n\";\n",
        "    for (int i = 0; i < 3; i++) {\n",
        "        int result = f1(testCases[i][0]);\n",
        "        if (result == testCases[i][1])\n",
        "            std::cout << \"Test case x = \" << testCases[i][0] << \" da qua: Mong doi \" << testCases[i][1] << \", Ket qua \" << result << \"\\n\";\n",
        "        else\n",
        "            std::cout << \"Test case x = \" << testCases[i][0] << \" that bai: Mong doi \" << testCases[i][1] << \", Ket qua \" << result << \"\\n\";\n",
        "    }\n",
        "    return 0;\n",
        "}\n",
        "\n"
      ],
      "execution_count": null,
      "outputs": [
        {
          "output_type": "stream",
          "name": "stdout",
          "text": [
            "Overwriting main.cpp\n"
          ]
        }
      ]
    },
    {
      "cell_type": "code",
      "source": [
        "!g++ main.cpp -o main\n",
        "!./main"
      ],
      "metadata": {
        "colab": {
          "base_uri": "https://localhost:8080/"
        },
        "id": "VsGdq_912A5j",
        "outputId": "9309b6cf-305a-46e1-8f7d-44d8ddfa2155"
      },
      "execution_count": null,
      "outputs": [
        {
          "output_type": "stream",
          "name": "stdout",
          "text": [
            "\u001b[01m\u001b[Kmain.cpp:27:1:\u001b[m\u001b[K \u001b[01;31m\u001b[Kerror: \u001b[m\u001b[Kexpected unqualified-id before ‘\u001b[01m\u001b[K!\u001b[m\u001b[K’ token\n",
            "   27 | \u001b[01;31m\u001b[K!\u001b[m\u001b[Kg++ main.cpp -o main\n",
            "      | \u001b[01;31m\u001b[K^\u001b[m\u001b[K\n",
            "Kết quả kiểm tra hàm f1:\n",
            "Test case x = 11 da qua: Mong doi 22, Ket qua 22\n",
            "Test case x = 10 da qua: Mong doi -10, Ket qua -10\n",
            "Test case x = 5 da qua: Mong doi -5, Ket qua -5\n"
          ]
        }
      ]
    },
    {
      "cell_type": "markdown",
      "source": [
        "#Câu b"
      ],
      "metadata": {
        "id": "MY62pHpX1uA5"
      }
    },
    {
      "cell_type": "code",
      "source": [
        "%%writefile main1.cpp\n",
        "#include <iostream>\n",
        "\n",
        "int f1(int x) {\n",
        "    if (x > 10)\n",
        "        return 2 * x;\n",
        "    else if (x > 0)\n",
        "        return -x;\n",
        "    else\n",
        "        return 2 * x;\n",
        "}\n",
        "\n",
        "int main() {\n",
        "    int testCases[][2] = {\n",
        "        {11, 22}, // x > 10\n",
        "        {5, -5},  // 0 < x <= 10\n",
        "        {-1, -2}  // x <= 0\n",
        "    };\n",
        "\n",
        "    std::cout << \"Kết quả kiểm tra hàm f1 sua doi:\\n\";\n",
        "    for (int i = 0; i < 3; i++) {\n",
        "        int result = f1(testCases[i][0]);\n",
        "        if (result == testCases[i][1])\n",
        "            std::cout << \"Test case x = \" << testCases[i][0] << \" da qua: Mong doi \" << testCases[i][1] << \", Ket qua \" << result << \"\\n\";\n",
        "        else\n",
        "            std::cout << \"Test case x = \" << testCases[i][0] << \" that bai: Mong doi \" << testCases[i][1] << \", Ket qua \" << result << \"\\n\";\n",
        "    }\n",
        "    return 0;\n",
        "}"
      ],
      "metadata": {
        "colab": {
          "base_uri": "https://localhost:8080/"
        },
        "id": "WCnV8z-P1w4G",
        "outputId": "126a1c50-8dde-4051-ac0f-9c743ca3d3dd"
      },
      "execution_count": null,
      "outputs": [
        {
          "output_type": "stream",
          "name": "stdout",
          "text": [
            "Writing main1.cpp\n"
          ]
        }
      ]
    },
    {
      "cell_type": "code",
      "source": [
        "!g++ main1.cpp -o main\n",
        "!./main"
      ],
      "metadata": {
        "colab": {
          "base_uri": "https://localhost:8080/"
        },
        "id": "pE_nl_IN2Fi3",
        "outputId": "be9d6753-3275-4b95-9253-5cf50c145afe"
      },
      "execution_count": null,
      "outputs": [
        {
          "output_type": "stream",
          "name": "stdout",
          "text": [
            "Kết quả kiểm tra hàm f1 sua doi:\n",
            "Test case x = 11 da qua: Mong doi 22, Ket qua 22\n",
            "Test case x = 5 da qua: Mong doi -5, Ket qua -5\n",
            "Test case x = -1 da qua: Mong doi -2, Ket qua -2\n"
          ]
        }
      ]
    },
    {
      "cell_type": "markdown",
      "source": [
        "#Câu c"
      ],
      "metadata": {
        "id": "i0LV2EW_2MFg"
      }
    },
    {
      "cell_type": "code",
      "source": [
        "%%writefile main2.cpp\n",
        "#include <iostream>\n",
        "\n",
        "int f2(int x) {\n",
        "    if (x < 10)\n",
        "        return 2 * x;\n",
        "    else if (x < 2)\n",
        "        return -x;\n",
        "    else\n",
        "        return 2 * x;\n",
        "}\n",
        "\n",
        "int main() {\n",
        "    int testCases[][2] = {\n",
        "        {5, 10},  // Test-case 1: x=5 (< 10)\n",
        "        {11, 22}, // Test-case 2: x=11 (>= 10)\n",
        "        {10, 20}  // Test-case 3: x=10 (>= 10)\n",
        "    };\n",
        "\n",
        "    std::cout << \"Kết quả kiểm tra hàm f2:\\n\";\n",
        "    for (int i = 0; i < 3; i++) {\n",
        "        int result = f2(testCases[i][0]);\n",
        "        if (result == testCases[i][1])\n",
        "            std::cout << \"Test case x = \" << testCases[i][0] << \" da qua: Mong doi \" << testCases[i][1] << \", Ket qua \" << result << \"\\n\";\n",
        "        else\n",
        "            std::cout << \"Test case x = \" << testCases[i][0] << \" that bai: Mong doi \" << testCases[i][1] << \", Ket qua \" << result << \"\\n\";\n",
        "    }\n",
        "    return 0;\n",
        "}"
      ],
      "metadata": {
        "colab": {
          "base_uri": "https://localhost:8080/"
        },
        "id": "qcH2irZm2OOG",
        "outputId": "c6fd4494-d8a4-447c-fae0-3f2a9040863d"
      },
      "execution_count": null,
      "outputs": [
        {
          "output_type": "stream",
          "name": "stdout",
          "text": [
            "Writing main2.cpp\n"
          ]
        }
      ]
    },
    {
      "cell_type": "code",
      "source": [
        "!g++ main2.cpp -o main\n",
        "!./main"
      ],
      "metadata": {
        "colab": {
          "base_uri": "https://localhost:8080/"
        },
        "id": "V6O7ooqh2TPb",
        "outputId": "85a7ad02-567d-4242-f09c-29528bf55810"
      },
      "execution_count": null,
      "outputs": [
        {
          "output_type": "stream",
          "name": "stdout",
          "text": [
            "Kết quả kiểm tra hàm f2:\n",
            "Test case x = 5 da qua: Mong doi 10, Ket qua 10\n",
            "Test case x = 11 da qua: Mong doi 22, Ket qua 22\n",
            "Test case x = 10 da qua: Mong doi 20, Ket qua 20\n"
          ]
        }
      ]
    },
    {
      "cell_type": "markdown",
      "source": [
        "#Câu d"
      ],
      "metadata": {
        "id": "2vx2VAI42-6-"
      }
    },
    {
      "cell_type": "code",
      "source": [
        "%%writefile main3.cpp\n",
        "#include <iostream>\n",
        "#include <cmath>\n",
        "#include <limits>\n",
        "\n",
        "int f3(int x) {\n",
        "    double arg = (double)x * x * cos((double)x);\n",
        "    if (arg > 0 && log(arg) < 3.0 * x)\n",
        "        return 2 * x;\n",
        "    else\n",
        "        return 2 * x;\n",
        "}\n",
        "\n",
        "int main() {\n",
        "    int testCases[][2] = {\n",
        "        {1, 2},   // Test-case 1: x=1 (Condition true)\n",
        "        {-1, -2}, // Test-case 2: x=-1 (Condition false, cos(-1) > 0, log > 0, log(-1*cos(-1)) < -3 is false)\n",
        "        {0, std::numeric_limits<int>::min()} // Test-case 3: x=0 (Undefined log)\n",
        "    };\n",
        "\n",
        "    std::cout << \"Kết quả kiểm tra hàm f3:\\n\";\n",
        "    for (int i = 0; i < 3; i++) {\n",
        "        if (testCases[i][0] == 0) {\n",
        "            std::cout << \"Test case x = \" << testCases[i][0] << \": Ket qua khong xac dinh (log(0))\\n\";\n",
        "        } else {\n",
        "            int result = f3(testCases[i][0]);\n",
        "            if (result == testCases[i][1])\n",
        "                std::cout << \"Test case x = \" << testCases[i][0] << \" da qua: Mong doi \" << testCases[i][1] << \", Ket qua \" << result << \"\\n\";\n",
        "            else\n",
        "                std::cout << \"Test case x = \" << testCases[i][0] << \" that bai: Mong doi \" << testCases[i][1] << \", Ket qua \" << result << \"\\n\";\n",
        "        }\n",
        "    }\n",
        "    return 0;\n",
        "}"
      ],
      "metadata": {
        "colab": {
          "base_uri": "https://localhost:8080/"
        },
        "id": "4wxKn9VV3Cs5",
        "outputId": "c038dbea-76eb-4695-d58d-fcc9895b11a7"
      },
      "execution_count": null,
      "outputs": [
        {
          "output_type": "stream",
          "name": "stdout",
          "text": [
            "Writing main3.cpp\n"
          ]
        }
      ]
    },
    {
      "cell_type": "code",
      "source": [
        "!g++ main3.cpp -o main\n",
        "!./main"
      ],
      "metadata": {
        "colab": {
          "base_uri": "https://localhost:8080/"
        },
        "id": "HW6B-qIY3X4g",
        "outputId": "4b136e67-5390-41d2-ba96-9eb599e15125"
      },
      "execution_count": null,
      "outputs": [
        {
          "output_type": "stream",
          "name": "stdout",
          "text": [
            "Kết quả kiểm tra hàm f3:\n",
            "Test case x = 1 da qua: Mong doi 2, Ket qua 2\n",
            "Test case x = -1 da qua: Mong doi -2, Ket qua -2\n",
            "Test case x = 0: Ket qua khong xac dinh (log(0))\n"
          ]
        }
      ]
    },
    {
      "cell_type": "markdown",
      "source": [
        "#Câu e"
      ],
      "metadata": {
        "id": "_EpSLXgt3zzY"
      }
    },
    {
      "cell_type": "code",
      "source": [
        "%%writefile main4.cpp\n",
        "#include <iostream>\n",
        "\n",
        "int findMax(int num1, int num2, int num3) {\n",
        "    int max = 0;\n",
        "    if ((num1 > num2) && (num1 > num3))\n",
        "        max = num1;\n",
        "    if ((num2 > num1) && (num2 > num3))\n",
        "        max = num2;\n",
        "    if ((num3 > num1) && (num3 > num2))\n",
        "        max = num3;\n",
        "    return max;\n",
        "}\n",
        "\n",
        "int main() {\n",
        "    int testCases[][4] = {\n",
        "        {3, 2, 1, 3},    // Test-case 1: (3,2,1),\n",
        "        {1, 3, 2, 3},    // Test-case 2: (1,3,2),\n",
        "        {2, 3, 1, 3},    // Test-case 3: (2,3,1),\n",
        "        {1, 1, 1, 1},    // Test-case 4: (1,1,1),\n",
        "        {-1, -2, -3, -1},// Test-case 5: (-1, -2, -3),\n",
        "        {1, -2, -3, 1},  // Test-case 6: (1, -2, -3),\n",
        "        {5, 5, 3, 5},    // Test-case 7: (5, 5, 3),\n",
        "        {0, 0, 0, 0}     // Test-case 8: (0, 0, 0),\n",
        "    };\n",
        "\n",
        "    std::cout << \"Kết quả kiểm tra hàm findMax:\\n\";\n",
        "    for (int i = 0; i < 8; i++) { // Changed loop limit to 8 for the new test cases\n",
        "        int result = findMax(testCases[i][0], testCases[i][1], testCases[i][2]);\n",
        "        if (result == testCases[i][3])\n",
        "            std::cout << \"Test case (\" << testCases[i][0] << \", \" << testCases[i][1] << \", \" << testCases[i][2] << \") da qua: Mong doi \" << testCases[i][3] << \", Ket qua \" << result << \"\\n\";\n",
        "        else\n",
        "            std::cout << \"Test case (\" << testCases[i][0] << \", \" << testCases[i][1] << \", \" << testCases[i][2] << \") that bai: Mong doi \" << testCases[i][3] << \", Ket qua \" << result << \"\\n\";\n",
        "    }\n",
        "    return 0;\n",
        "}"
      ],
      "metadata": {
        "colab": {
          "base_uri": "https://localhost:8080/"
        },
        "id": "K6AAe2-n319m",
        "outputId": "c880c820-c0f8-4bd0-8ccf-0adf7cd29e5e"
      },
      "execution_count": null,
      "outputs": [
        {
          "output_type": "stream",
          "name": "stdout",
          "text": [
            "Writing main4.cpp\n"
          ]
        }
      ]
    },
    {
      "cell_type": "code",
      "source": [
        "!g++ main4.cpp -o main\n",
        "!./main"
      ],
      "metadata": {
        "colab": {
          "base_uri": "https://localhost:8080/"
        },
        "id": "UKZ3Ozyw38ca",
        "outputId": "c0450991-d32e-4639-a78b-61eff3d1fcec"
      },
      "execution_count": null,
      "outputs": [
        {
          "output_type": "stream",
          "name": "stdout",
          "text": [
            "Kết quả kiểm tra hàm findMax:\n",
            "Test case (3, 2, 1) da qua: Mong doi 3, Ket qua 3\n",
            "Test case (1, 3, 2) da qua: Mong doi 3, Ket qua 3\n",
            "Test case (2, 3, 1) da qua: Mong doi 3, Ket qua 3\n",
            "Test case (1, 1, 1) that bai: Mong doi 1, Ket qua 0\n",
            "Test case (-1, -2, -3) da qua: Mong doi -1, Ket qua -1\n",
            "Test case (1, -2, -3) da qua: Mong doi 1, Ket qua 1\n",
            "Test case (5, 5, 3) that bai: Mong doi 5, Ket qua 0\n",
            "Test case (0, 0, 0) da qua: Mong doi 0, Ket qua 0\n"
          ]
        }
      ]
    },
    {
      "cell_type": "markdown",
      "source": [
        "#III. PRACTICE 1\n",
        "Mô tả\n",
        "\n",
        "  -Input: ba số thực a b c.\n",
        "\n",
        "  Output:\n",
        "\n",
        "•\tNếu a = b = c = 0 → Phương trình vô số nghiệm\n",
        "\n",
        "•\tNếu phương trình vô nghiệm thực → Phương trình vô nghiệm\n",
        "\n",
        "•\tNgược lại in số nghiệm thực và liệt kê các nghiệm thực (có thể 1,2 hoặc 4 nghiệm phụ thuộc y1,y2).\n"
      ],
      "metadata": {
        "id": "cQpes5-V4ziB"
      }
    },
    {
      "cell_type": "code",
      "source": [
        "%%writefile main5.cpp\n",
        "#include <iostream>\n",
        "#include <cmath>\n",
        "\n",
        "using namespace std;\n",
        "\n",
        "int solveQuadratic(double a, double b, double c, double x[]) {\n",
        "    if (a == 0 & b == 0 & c == 0) {\n",
        "        return -1;\n",
        "    }\n",
        "    if (a == 0) {\n",
        "        double y = -c / b;\n",
        "        if (y >= 0) {\n",
        "            x[0] = sqrt(y);\n",
        "            x[1] = -sqrt(y);\n",
        "            return 2;\n",
        "        }\n",
        "        return 0;\n",
        "    }\n",
        "    double delta = b * b - 4 * a * c;\n",
        "    if (delta < 0) return 0;\n",
        "    double y1 = (-b + sqrt(delta)) / (2 * a);\n",
        "    double y2 = (-b - sqrt(delta)) / (2 * a);\n",
        "    int count = 0;\n",
        "    if (y1 >= 0) {\n",
        "        x[count++] = sqrt(y1);\n",
        "        x[count++] = -sqrt(y1);\n",
        "    }\n",
        "    if (y2 >= 0 && y2 != y1) {\n",
        "        x[count++] = sqrt(y2);\n",
        "        x[count++] = -sqrt(y2);\n",
        "    }\n",
        "    return count;\n",
        "}\n",
        "\n",
        "int main() {\n",
        "    double a, b, c;\n",
        "    double x[4];\n",
        "    int n;\n",
        "\n",
        "    // Test-case 1: Hệ số bằng 0\n",
        "    a = 0; b = 0; c = 0;\n",
        "    n = solveQuadratic(a, b, c, x);\n",
        "    if (n == -1) {\n",
        "        cout << \"Test 1: Infinite solutions.\" << endl;\n",
        "    }\n",
        "\n",
        "    // Test-case 2: a=0, b=0, c≠0\n",
        "    a = 0; b = 0; c = 1;\n",
        "    n = solveQuadratic(a, b, c, x);\n",
        "    if (n == 0) {\n",
        "        cout << \"Test 2: No solution.\" << endl;\n",
        "    }\n",
        "\n",
        "    // Test-case 3: a=0, b≠0, y=-c/b>0\n",
        "    a = 0; b = 2; c = -8;\n",
        "    n = solveQuadratic(a, b, c, x);\n",
        "    if (n == 2) {\n",
        "        cout << \"Test 3: Solutions are \" << x[0] << \", \" << x[1] << endl;\n",
        "    }\n",
        "\n",
        "    // Test-case 4: a=0, b≠0, y=0\n",
        "    a = 0; b = 2; c = 0;\n",
        "    n = solveQuadratic(a, b, c, x);\n",
        "    if (n == 2) {\n",
        "        cout << \"Test 4: Solutions are \" << x[0] << \", \" << x[1] << endl;\n",
        "    }\n",
        "\n",
        "    // Test-case 5: a=0, b≠0, y<0\n",
        "    a = 0; b = 2; c = 8;\n",
        "    n = solveQuadratic(a, b, c, x);\n",
        "    if (n == 0) {\n",
        "        cout << \"Test 5: No real solutions.\" << endl;\n",
        "    }\n",
        "\n",
        "    // Test-case 6: a≠0, delta>0,  y>0 v  y<0\n",
        "    a = 1; b = 0; c = -1;\n",
        "    n = solveQuadratic(a, b, c, x);\n",
        "    if (n == 2) {\n",
        "        cout << \"Test 6: Solutions are \" << x[0] << \", \" << x[1] << endl;\n",
        "    }\n",
        "\n",
        "    // Test-case 7: a≠0, delta<0\n",
        "    a = 1; b = 0; c = 1;\n",
        "    n = solveQuadratic(a, b, c, x);\n",
        "    if (n == 0) {\n",
        "        cout << \"Test 7: No real solutions.\" << endl;\n",
        "    }\n",
        "\n",
        "    // Test-case 8: a≠0, delta=0, y>0\n",
        "    a = 1; b = -2; c = 1;\n",
        "    n = solveQuadratic(a, b, c, x);\n",
        "    if (n == 2) {\n",
        "        cout << \"Test 8: Solutions are \" << x[0] << \", \" << x[1] << endl;\n",
        "    }\n",
        "\n",
        "    // Test-case 9: a≠0, one y=0\n",
        "    a = 1; b = 1; c = 0;\n",
        "    n = solveQuadratic(a, b, c, x);\n",
        "    if (n == 2) {\n",
        "        cout << \"Test 9: Solutions are \" << x[0] << \", \" << x[1] << endl;\n",
        "    }\n",
        "\n",
        "    // Test-case 10: a≠0, delta>0, both y>0\n",
        "    a = 1; b = -5; c = 4;\n",
        "    n = solveQuadratic(a, b, c, x);\n",
        "    if (n == 4) {\n",
        "        cout << \"Test 10: Solutions are \" << x[0] << \", \" << x[1] << \", \" << x[2] << \", \" << x[3] << endl;\n",
        "    }\n",
        "\n",
        "    return 0;\n",
        "}"
      ],
      "metadata": {
        "colab": {
          "base_uri": "https://localhost:8080/"
        },
        "id": "UbtfQlcZCxnD",
        "outputId": "71b29474-c395-4909-9839-7134739dc6fa"
      },
      "execution_count": null,
      "outputs": [
        {
          "output_type": "stream",
          "name": "stdout",
          "text": [
            "Overwriting main5.cpp\n"
          ]
        }
      ]
    },
    {
      "cell_type": "code",
      "source": [
        "!g++ main5.cpp -o main\n",
        "!./main"
      ],
      "metadata": {
        "colab": {
          "base_uri": "https://localhost:8080/"
        },
        "id": "R9rY3SHbC-7v",
        "outputId": "590a1e1f-c76f-4e74-d58c-bc6717e10e7e"
      },
      "execution_count": null,
      "outputs": [
        {
          "output_type": "stream",
          "name": "stdout",
          "text": [
            "Test 1: Infinite solutions.\n",
            "Test 2: No solution.\n",
            "Test 3: Solutions are 2, -2\n",
            "Test 4: Solutions are -0, 0\n",
            "Test 5: No real solutions.\n",
            "Test 6: Solutions are 1, -1\n",
            "Test 7: No real solutions.\n",
            "Test 8: Solutions are 1, -1\n",
            "Test 9: Solutions are 0, -0\n",
            "Test 10: Solutions are 2, -2, 1, -1\n"
          ]
        }
      ]
    }
  ]
}